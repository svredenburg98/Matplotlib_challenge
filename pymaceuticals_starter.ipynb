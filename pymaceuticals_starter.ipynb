{
 "cells": [
  {
   "cell_type": "markdown",
   "metadata": {},
   "source": [
    "## Observations and Insights "
   ]
  },
  {
   "cell_type": "markdown",
   "metadata": {},
   "source": []
  },
  {
   "cell_type": "code",
   "execution_count": 1,
   "metadata": {},
   "outputs": [
    {
     "data": {
      "text/html": [
       "<div>\n",
       "<style scoped>\n",
       "    .dataframe tbody tr th:only-of-type {\n",
       "        vertical-align: middle;\n",
       "    }\n",
       "\n",
       "    .dataframe tbody tr th {\n",
       "        vertical-align: top;\n",
       "    }\n",
       "\n",
       "    .dataframe thead th {\n",
       "        text-align: right;\n",
       "    }\n",
       "</style>\n",
       "<table border=\"1\" class=\"dataframe\">\n",
       "  <thead>\n",
       "    <tr style=\"text-align: right;\">\n",
       "      <th></th>\n",
       "      <th>Mouse ID</th>\n",
       "      <th>Drug Regimen</th>\n",
       "      <th>Sex</th>\n",
       "      <th>Age_months</th>\n",
       "      <th>Weight (g)</th>\n",
       "      <th>Timepoint</th>\n",
       "      <th>Tumor Volume (mm3)</th>\n",
       "      <th>Metastatic Sites</th>\n",
       "    </tr>\n",
       "  </thead>\n",
       "  <tbody>\n",
       "    <tr>\n",
       "      <th>0</th>\n",
       "      <td>k403</td>\n",
       "      <td>Ramicane</td>\n",
       "      <td>Male</td>\n",
       "      <td>21</td>\n",
       "      <td>16</td>\n",
       "      <td>0</td>\n",
       "      <td>45.000000</td>\n",
       "      <td>0</td>\n",
       "    </tr>\n",
       "    <tr>\n",
       "      <th>1</th>\n",
       "      <td>k403</td>\n",
       "      <td>Ramicane</td>\n",
       "      <td>Male</td>\n",
       "      <td>21</td>\n",
       "      <td>16</td>\n",
       "      <td>5</td>\n",
       "      <td>38.825898</td>\n",
       "      <td>0</td>\n",
       "    </tr>\n",
       "    <tr>\n",
       "      <th>2</th>\n",
       "      <td>k403</td>\n",
       "      <td>Ramicane</td>\n",
       "      <td>Male</td>\n",
       "      <td>21</td>\n",
       "      <td>16</td>\n",
       "      <td>10</td>\n",
       "      <td>35.014271</td>\n",
       "      <td>1</td>\n",
       "    </tr>\n",
       "    <tr>\n",
       "      <th>3</th>\n",
       "      <td>k403</td>\n",
       "      <td>Ramicane</td>\n",
       "      <td>Male</td>\n",
       "      <td>21</td>\n",
       "      <td>16</td>\n",
       "      <td>15</td>\n",
       "      <td>34.223992</td>\n",
       "      <td>1</td>\n",
       "    </tr>\n",
       "    <tr>\n",
       "      <th>4</th>\n",
       "      <td>k403</td>\n",
       "      <td>Ramicane</td>\n",
       "      <td>Male</td>\n",
       "      <td>21</td>\n",
       "      <td>16</td>\n",
       "      <td>20</td>\n",
       "      <td>32.997729</td>\n",
       "      <td>1</td>\n",
       "    </tr>\n",
       "    <tr>\n",
       "      <th>...</th>\n",
       "      <td>...</td>\n",
       "      <td>...</td>\n",
       "      <td>...</td>\n",
       "      <td>...</td>\n",
       "      <td>...</td>\n",
       "      <td>...</td>\n",
       "      <td>...</td>\n",
       "      <td>...</td>\n",
       "    </tr>\n",
       "    <tr>\n",
       "      <th>1888</th>\n",
       "      <td>z969</td>\n",
       "      <td>Naftisol</td>\n",
       "      <td>Male</td>\n",
       "      <td>9</td>\n",
       "      <td>30</td>\n",
       "      <td>25</td>\n",
       "      <td>63.145652</td>\n",
       "      <td>2</td>\n",
       "    </tr>\n",
       "    <tr>\n",
       "      <th>1889</th>\n",
       "      <td>z969</td>\n",
       "      <td>Naftisol</td>\n",
       "      <td>Male</td>\n",
       "      <td>9</td>\n",
       "      <td>30</td>\n",
       "      <td>30</td>\n",
       "      <td>65.841013</td>\n",
       "      <td>3</td>\n",
       "    </tr>\n",
       "    <tr>\n",
       "      <th>1890</th>\n",
       "      <td>z969</td>\n",
       "      <td>Naftisol</td>\n",
       "      <td>Male</td>\n",
       "      <td>9</td>\n",
       "      <td>30</td>\n",
       "      <td>35</td>\n",
       "      <td>69.176246</td>\n",
       "      <td>4</td>\n",
       "    </tr>\n",
       "    <tr>\n",
       "      <th>1891</th>\n",
       "      <td>z969</td>\n",
       "      <td>Naftisol</td>\n",
       "      <td>Male</td>\n",
       "      <td>9</td>\n",
       "      <td>30</td>\n",
       "      <td>40</td>\n",
       "      <td>70.314904</td>\n",
       "      <td>4</td>\n",
       "    </tr>\n",
       "    <tr>\n",
       "      <th>1892</th>\n",
       "      <td>z969</td>\n",
       "      <td>Naftisol</td>\n",
       "      <td>Male</td>\n",
       "      <td>9</td>\n",
       "      <td>30</td>\n",
       "      <td>45</td>\n",
       "      <td>73.867845</td>\n",
       "      <td>4</td>\n",
       "    </tr>\n",
       "  </tbody>\n",
       "</table>\n",
       "<p>1893 rows × 8 columns</p>\n",
       "</div>"
      ],
      "text/plain": [
       "     Mouse ID Drug Regimen   Sex  Age_months  Weight (g)  Timepoint  \\\n",
       "0        k403     Ramicane  Male          21          16          0   \n",
       "1        k403     Ramicane  Male          21          16          5   \n",
       "2        k403     Ramicane  Male          21          16         10   \n",
       "3        k403     Ramicane  Male          21          16         15   \n",
       "4        k403     Ramicane  Male          21          16         20   \n",
       "...       ...          ...   ...         ...         ...        ...   \n",
       "1888     z969     Naftisol  Male           9          30         25   \n",
       "1889     z969     Naftisol  Male           9          30         30   \n",
       "1890     z969     Naftisol  Male           9          30         35   \n",
       "1891     z969     Naftisol  Male           9          30         40   \n",
       "1892     z969     Naftisol  Male           9          30         45   \n",
       "\n",
       "      Tumor Volume (mm3)  Metastatic Sites  \n",
       "0              45.000000                 0  \n",
       "1              38.825898                 0  \n",
       "2              35.014271                 1  \n",
       "3              34.223992                 1  \n",
       "4              32.997729                 1  \n",
       "...                  ...               ...  \n",
       "1888           63.145652                 2  \n",
       "1889           65.841013                 3  \n",
       "1890           69.176246                 4  \n",
       "1891           70.314904                 4  \n",
       "1892           73.867845                 4  \n",
       "\n",
       "[1893 rows x 8 columns]"
      ]
     },
     "execution_count": 1,
     "metadata": {},
     "output_type": "execute_result"
    }
   ],
   "source": [
    "# Dependencies and Setup\n",
    "import matplotlib.pyplot as plt\n",
    "import pandas as pd\n",
    "import scipy.stats as st\n",
    "import numpy as np\n",
    "\n",
    "# Study data files\n",
    "mouse_metadata_path = \"data/Mouse_metadata.csv\"\n",
    "study_results_path = \"data/Study_results.csv\"\n",
    "\n",
    "# Read the mouse data and the study results\n",
    "mouse_metadata = pd.read_csv(mouse_metadata_path)\n",
    "study_results = pd.read_csv(study_results_path)\n",
    "\n",
    "# Combine the data into a single dataset\n",
    "mouse_df = pd.DataFrame(mouse_metadata)\n",
    "study_df = pd.DataFrame(study_results)\n",
    "combined_df = pd.merge(mouse_df, study_df, on = 'Mouse ID')\n",
    "# Display the data table for preview\n",
    "combined_df"
   ]
  },
  {
   "cell_type": "code",
   "execution_count": 2,
   "metadata": {},
   "outputs": [
    {
     "name": "stdout",
     "output_type": "stream",
     "text": [
      "There are 249 unique mice\n"
     ]
    }
   ],
   "source": [
    "# Checking the number of mice.\n",
    "total_mice = len(combined_df['Mouse ID'].value_counts())\n",
    "print(f\"There are {total_mice} unique mice\")"
   ]
  },
  {
   "cell_type": "code",
   "execution_count": 3,
   "metadata": {},
   "outputs": [
    {
     "data": {
      "text/plain": [
       "['g989', 'g989', 'g989', 'g989', 'g989']"
      ]
     },
     "execution_count": 3,
     "metadata": {},
     "output_type": "execute_result"
    }
   ],
   "source": [
    "# Getting the duplicate mice by ID number that shows up for Mouse ID and Timepoint. \n",
    "ID_Time = combined_df[['Mouse ID', 'Timepoint']]\n",
    "duplicated_mouse = []\n",
    "duplicate_test = ID_Time.duplicated()\n",
    "duplicate_test.value_counts()\n",
    "combined_df['Duplicated'] = duplicate_test\n",
    "for index, row in combined_df.iterrows():\n",
    "    if row['Duplicated'] == True:\n",
    "        duplicated_mouse.append(row['Mouse ID'])\n",
    "duplicated_mouse\n"
   ]
  },
  {
   "cell_type": "code",
   "execution_count": 4,
   "metadata": {},
   "outputs": [
    {
     "name": "stdout",
     "output_type": "stream",
     "text": [
      "Mouse ID                  g989\n",
      "Drug Regimen          Propriva\n",
      "Sex                     Female\n",
      "Age_months                  21\n",
      "Weight (g)                  26\n",
      "Timepoint                    0\n",
      "Tumor Volume (mm3)          45\n",
      "Metastatic Sites             0\n",
      "Duplicated               False\n",
      "Name: 908, dtype: object\n",
      "Mouse ID                  g989\n",
      "Drug Regimen          Propriva\n",
      "Sex                     Female\n",
      "Age_months                  21\n",
      "Weight (g)                  26\n",
      "Timepoint                    0\n",
      "Tumor Volume (mm3)          45\n",
      "Metastatic Sites             0\n",
      "Duplicated                True\n",
      "Name: 909, dtype: object\n",
      "Mouse ID                  g989\n",
      "Drug Regimen          Propriva\n",
      "Sex                     Female\n",
      "Age_months                  21\n",
      "Weight (g)                  26\n",
      "Timepoint                    5\n",
      "Tumor Volume (mm3)     48.7868\n",
      "Metastatic Sites             0\n",
      "Duplicated               False\n",
      "Name: 910, dtype: object\n",
      "Mouse ID                  g989\n",
      "Drug Regimen          Propriva\n",
      "Sex                     Female\n",
      "Age_months                  21\n",
      "Weight (g)                  26\n",
      "Timepoint                    5\n",
      "Tumor Volume (mm3)     47.5704\n",
      "Metastatic Sites             0\n",
      "Duplicated                True\n",
      "Name: 911, dtype: object\n",
      "Mouse ID                  g989\n",
      "Drug Regimen          Propriva\n",
      "Sex                     Female\n",
      "Age_months                  21\n",
      "Weight (g)                  26\n",
      "Timepoint                   10\n",
      "Tumor Volume (mm3)     51.7452\n",
      "Metastatic Sites             0\n",
      "Duplicated               False\n",
      "Name: 912, dtype: object\n",
      "Mouse ID                  g989\n",
      "Drug Regimen          Propriva\n",
      "Sex                     Female\n",
      "Age_months                  21\n",
      "Weight (g)                  26\n",
      "Timepoint                   10\n",
      "Tumor Volume (mm3)     49.8805\n",
      "Metastatic Sites             0\n",
      "Duplicated                True\n",
      "Name: 913, dtype: object\n",
      "Mouse ID                  g989\n",
      "Drug Regimen          Propriva\n",
      "Sex                     Female\n",
      "Age_months                  21\n",
      "Weight (g)                  26\n",
      "Timepoint                   15\n",
      "Tumor Volume (mm3)     51.3259\n",
      "Metastatic Sites             1\n",
      "Duplicated               False\n",
      "Name: 914, dtype: object\n",
      "Mouse ID                  g989\n",
      "Drug Regimen          Propriva\n",
      "Sex                     Female\n",
      "Age_months                  21\n",
      "Weight (g)                  26\n",
      "Timepoint                   15\n",
      "Tumor Volume (mm3)      53.442\n",
      "Metastatic Sites             0\n",
      "Duplicated                True\n",
      "Name: 915, dtype: object\n",
      "Mouse ID                  g989\n",
      "Drug Regimen          Propriva\n",
      "Sex                     Female\n",
      "Age_months                  21\n",
      "Weight (g)                  26\n",
      "Timepoint                   20\n",
      "Tumor Volume (mm3)     55.3261\n",
      "Metastatic Sites             1\n",
      "Duplicated               False\n",
      "Name: 916, dtype: object\n",
      "Mouse ID                  g989\n",
      "Drug Regimen          Propriva\n",
      "Sex                     Female\n",
      "Age_months                  21\n",
      "Weight (g)                  26\n",
      "Timepoint                   20\n",
      "Tumor Volume (mm3)     54.6577\n",
      "Metastatic Sites             1\n",
      "Duplicated                True\n",
      "Name: 917, dtype: object\n",
      "Mouse ID                  g989\n",
      "Drug Regimen          Propriva\n",
      "Sex                     Female\n",
      "Age_months                  21\n",
      "Weight (g)                  26\n",
      "Timepoint                   25\n",
      "Tumor Volume (mm3)     56.0456\n",
      "Metastatic Sites             1\n",
      "Duplicated               False\n",
      "Name: 918, dtype: object\n",
      "Mouse ID                  g989\n",
      "Drug Regimen          Propriva\n",
      "Sex                     Female\n",
      "Age_months                  21\n",
      "Weight (g)                  26\n",
      "Timepoint                   30\n",
      "Tumor Volume (mm3)     59.0823\n",
      "Metastatic Sites             1\n",
      "Duplicated               False\n",
      "Name: 919, dtype: object\n",
      "Mouse ID                  g989\n",
      "Drug Regimen          Propriva\n",
      "Sex                     Female\n",
      "Age_months                  21\n",
      "Weight (g)                  26\n",
      "Timepoint                   35\n",
      "Tumor Volume (mm3)     62.5709\n",
      "Metastatic Sites             2\n",
      "Duplicated               False\n",
      "Name: 920, dtype: object\n"
     ]
    }
   ],
   "source": [
    "# Optional: Get all the data for the duplicate mouse ID. \n",
    "for index, row in combined_df.iterrows():\n",
    "    if row['Mouse ID'] == \"g989\":\n",
    "        print(row)\n"
   ]
  },
  {
   "cell_type": "code",
   "execution_count": 5,
   "metadata": {},
   "outputs": [],
   "source": [
    "\n",
    "combined_df.drop(combined_df.loc[combined_df['Mouse ID']==\"g989\"].index, inplace=True)"
   ]
  },
  {
   "cell_type": "code",
   "execution_count": 37,
   "metadata": {},
   "outputs": [
    {
     "name": "stdout",
     "output_type": "stream",
     "text": [
      "There are 248 mice\n"
     ]
    }
   ],
   "source": [
    "\n",
    "total_mice_clean = len(combined_df['Mouse ID'].value_counts())\n",
    "print(f\"There are {total_mice_clean} mice\")"
   ]
  },
  {
   "cell_type": "markdown",
   "metadata": {},
   "source": [
    "## Summary Statistics"
   ]
  },
  {
   "cell_type": "code",
   "execution_count": 7,
   "metadata": {},
   "outputs": [
    {
     "data": {
      "text/html": [
       "<div>\n",
       "<style scoped>\n",
       "    .dataframe tbody tr th:only-of-type {\n",
       "        vertical-align: middle;\n",
       "    }\n",
       "\n",
       "    .dataframe tbody tr th {\n",
       "        vertical-align: top;\n",
       "    }\n",
       "\n",
       "    .dataframe thead th {\n",
       "        text-align: right;\n",
       "    }\n",
       "</style>\n",
       "<table border=\"1\" class=\"dataframe\">\n",
       "  <thead>\n",
       "    <tr style=\"text-align: right;\">\n",
       "      <th></th>\n",
       "      <th>Drug Name</th>\n",
       "      <th>Mean</th>\n",
       "      <th>Median</th>\n",
       "      <th>Variance</th>\n",
       "      <th>Standard Deviation</th>\n",
       "      <th>SEM</th>\n",
       "    </tr>\n",
       "  </thead>\n",
       "  <tbody>\n",
       "    <tr>\n",
       "      <th>0</th>\n",
       "      <td>Ramicane</td>\n",
       "      <td>40.216745</td>\n",
       "      <td>40.673236</td>\n",
       "      <td>23.383692</td>\n",
       "      <td>4.835669</td>\n",
       "      <td>0.320955</td>\n",
       "    </tr>\n",
       "    <tr>\n",
       "      <th>1</th>\n",
       "      <td>Capomulin</td>\n",
       "      <td>40.675741</td>\n",
       "      <td>41.557809</td>\n",
       "      <td>24.839296</td>\n",
       "      <td>4.983904</td>\n",
       "      <td>0.329346</td>\n",
       "    </tr>\n",
       "    <tr>\n",
       "      <th>2</th>\n",
       "      <td>Infubinol</td>\n",
       "      <td>52.884795</td>\n",
       "      <td>51.820584</td>\n",
       "      <td>42.886388</td>\n",
       "      <td>6.548770</td>\n",
       "      <td>0.492236</td>\n",
       "    </tr>\n",
       "    <tr>\n",
       "      <th>3</th>\n",
       "      <td>Placebo</td>\n",
       "      <td>54.033581</td>\n",
       "      <td>52.288934</td>\n",
       "      <td>60.830138</td>\n",
       "      <td>7.799368</td>\n",
       "      <td>0.581331</td>\n",
       "    </tr>\n",
       "    <tr>\n",
       "      <th>4</th>\n",
       "      <td>Ceftamin</td>\n",
       "      <td>52.591172</td>\n",
       "      <td>51.776157</td>\n",
       "      <td>39.069446</td>\n",
       "      <td>6.250556</td>\n",
       "      <td>0.469821</td>\n",
       "    </tr>\n",
       "    <tr>\n",
       "      <th>5</th>\n",
       "      <td>Stelasyn</td>\n",
       "      <td>54.233149</td>\n",
       "      <td>52.431737</td>\n",
       "      <td>59.122106</td>\n",
       "      <td>7.689090</td>\n",
       "      <td>0.573111</td>\n",
       "    </tr>\n",
       "    <tr>\n",
       "      <th>6</th>\n",
       "      <td>Zoniferol</td>\n",
       "      <td>53.236507</td>\n",
       "      <td>51.818479</td>\n",
       "      <td>48.266689</td>\n",
       "      <td>6.947423</td>\n",
       "      <td>0.516398</td>\n",
       "    </tr>\n",
       "    <tr>\n",
       "      <th>7</th>\n",
       "      <td>Ketapril</td>\n",
       "      <td>55.235638</td>\n",
       "      <td>53.698743</td>\n",
       "      <td>68.188930</td>\n",
       "      <td>8.257659</td>\n",
       "      <td>0.603860</td>\n",
       "    </tr>\n",
       "    <tr>\n",
       "      <th>8</th>\n",
       "      <td>Propriva</td>\n",
       "      <td>52.320930</td>\n",
       "      <td>50.446266</td>\n",
       "      <td>43.555716</td>\n",
       "      <td>6.599675</td>\n",
       "      <td>0.544332</td>\n",
       "    </tr>\n",
       "    <tr>\n",
       "      <th>9</th>\n",
       "      <td>Naftisol</td>\n",
       "      <td>54.331565</td>\n",
       "      <td>52.509285</td>\n",
       "      <td>65.817708</td>\n",
       "      <td>8.112811</td>\n",
       "      <td>0.596466</td>\n",
       "    </tr>\n",
       "  </tbody>\n",
       "</table>\n",
       "</div>"
      ],
      "text/plain": [
       "   Drug Name       Mean     Median   Variance  Standard Deviation       SEM\n",
       "0   Ramicane  40.216745  40.673236  23.383692            4.835669  0.320955\n",
       "1  Capomulin  40.675741  41.557809  24.839296            4.983904  0.329346\n",
       "2  Infubinol  52.884795  51.820584  42.886388            6.548770  0.492236\n",
       "3    Placebo  54.033581  52.288934  60.830138            7.799368  0.581331\n",
       "4   Ceftamin  52.591172  51.776157  39.069446            6.250556  0.469821\n",
       "5   Stelasyn  54.233149  52.431737  59.122106            7.689090  0.573111\n",
       "6  Zoniferol  53.236507  51.818479  48.266689            6.947423  0.516398\n",
       "7   Ketapril  55.235638  53.698743  68.188930            8.257659  0.603860\n",
       "8   Propriva  52.320930  50.446266  43.555716            6.599675  0.544332\n",
       "9   Naftisol  54.331565  52.509285  65.817708            8.112811  0.596466"
      ]
     },
     "execution_count": 7,
     "metadata": {},
     "output_type": "execute_result"
    }
   ],
   "source": [
    "# Generate a summary statistics table of mean, median, variance, standard deviation, and SEM of the tumor volume for each regimen\n",
    "\n",
    "# This method is the most straighforward, creating multiple series and putting them all together at the end.\n",
    "reg_df = combined_df[['Drug Regimen', 'Tumor Volume (mm3)']]\n",
    "drugs = combined_df['Drug Regimen'].unique()\n",
    "drugs\n",
    "means = []\n",
    "medians = []\n",
    "variances = []\n",
    "devs = []\n",
    "sems = []\n",
    "for drug in drugs:\n",
    "    means.append(np.mean(reg_df.loc[reg_df['Drug Regimen']==drug, 'Tumor Volume (mm3)']))\n",
    "    medians.append(np.median(reg_df.loc[reg_df['Drug Regimen']==drug, 'Tumor Volume (mm3)']))\n",
    "    variances.append(np.var(reg_df.loc[reg_df['Drug Regimen']==drug, 'Tumor Volume (mm3)']))\n",
    "    devs.append(np.std(reg_df.loc[reg_df['Drug Regimen']==drug, 'Tumor Volume (mm3)']))\n",
    "    sems.append(st.sem(reg_df.loc[reg_df['Drug Regimen']==drug, 'Tumor Volume (mm3)']))\n",
    "\n",
    "    \n",
    "drug_stats_dict = {\"Drug Name\": drugs}\n",
    "drug_stats = pd.DataFrame(drug_stats_dict)\n",
    "drug_stats['Mean'] = means\n",
    "drug_stats['Median'] = medians\n",
    "drug_stats['Variance'] = variances\n",
    "drug_stats['Standard Deviation'] = devs\n",
    "drug_stats['SEM'] = sems\n",
    "drug_stats"
   ]
  },
  {
   "cell_type": "code",
   "execution_count": 9,
   "metadata": {},
   "outputs": [],
   "source": [
    "# Generate a summary statistics table of mean, median, variance, standard deviation, and SEM of the tumor volume for each regimen\n",
    "\n",
    "# This method produces everything in a single groupby function\n"
   ]
  },
  {
   "cell_type": "markdown",
   "metadata": {},
   "source": [
    "## Bar and Pie Charts"
   ]
  },
  {
   "cell_type": "code",
   "execution_count": 8,
   "metadata": {},
   "outputs": [
    {
     "data": {
      "image/png": "[encoded data removed]",
      "text/plain": [
       "<Figure size 432x288 with 1 Axes>"
      ]
     },
     "metadata": {
      "needs_background": "light"
     },
     "output_type": "display_data"
    }
   ],
   "source": [
    "# Generate a bar plot showing the total number of mice for each treatment throughout the course of the study using pandas. \n",
    "mice_count = combined_df['Drug Regimen'].value_counts()\n",
    "mice_chart = mice_count.plot(kind=\"bar\", title=\"Number of Mice per Drug\")"
   ]
  },
  {
   "cell_type": "code",
   "execution_count": 10,
   "metadata": {},
   "outputs": [
    {
     "data": {
      "image/png": "[encoded data removed]",
      "text/plain": [
       "<Figure size 432x288 with 1 Axes>"
      ]
     },
     "metadata": {
      "needs_background": "light"
     },
     "output_type": "display_data"
    }
   ],
   "source": [
    "# Generate a bar plot showing the total number of mice for each treatment throughout the course of the study using pyplot.\n",
    "drugs\n",
    "bar_df = pd.DataFrame(combined_df['Drug Regimen'].value_counts())\n",
    "x_axis = np.arange(len(bar_df[\"Drug Regimen\"]))\n",
    "plt.bar(x_axis, bar_df['Drug Regimen'], color=\"b\", alpha=.75, align=\"center\", width = .5)\n",
    "plt.xticks(x_axis, drugs, rotation='vertical')\n",
    "plt.tight_layout()"
   ]
  },
  {
   "cell_type": "code",
   "execution_count": 11,
   "metadata": {},
   "outputs": [
    {
     "data": {
      "text/plain": [
       "<matplotlib.axes._subplots.AxesSubplot at 0x195b8cbbc48>"
      ]
     },
     "execution_count": 11,
     "metadata": {},
     "output_type": "execute_result"
    },
    {
     "data": {
      "image/png": "[encoded data removed]",
      "text/plain": [
       "<Figure size 432x288 with 1 Axes>"
      ]
     },
     "metadata": {},
     "output_type": "display_data"
    }
   ],
   "source": [
    "# Generate a pie plot showing the distribution of female versus male mice using pandas\n",
    "gender_count = combined_df['Sex'].value_counts()\n",
    "gender_count.plot.pie()"
   ]
  },
  {
   "cell_type": "code",
   "execution_count": 12,
   "metadata": {},
   "outputs": [
    {
     "data": {
      "text/plain": [
       "([<matplotlib.patches.Wedge at 0x195b8db1408>,\n",
       "  <matplotlib.patches.Wedge at 0x195b8db1e48>],\n",
       " [Text(-0.03308201408261547, 1.0995024239828841, 'Male'),\n",
       "  Text(0.033082014082615095, -1.0995024239828841, 'Female')])"
      ]
     },
     "execution_count": 12,
     "metadata": {},
     "output_type": "execute_result"
    },
    {
     "data": {
      "image/png": "[encoded data removed]",
      "text/plain": [
       "<Figure size 432x288 with 1 Axes>"
      ]
     },
     "metadata": {},
     "output_type": "display_data"
    }
   ],
   "source": [
    "# Generate a pie plot showing the distribution of female versus male mice using pyplot\n",
    "labels = [\"Male\", \"Female\"]\n",
    "plt.pie(gender_count, labels=labels, shadow=True)"
   ]
  },
  {
   "cell_type": "markdown",
   "metadata": {},
   "source": [
    "## Quartiles, Outliers and Boxplots"
   ]
  },
  {
   "cell_type": "code",
   "execution_count": 38,
   "metadata": {},
   "outputs": [
    {
     "data": {
      "text/html": [
       "<div>\n",
       "<style scoped>\n",
       "    .dataframe tbody tr th:only-of-type {\n",
       "        vertical-align: middle;\n",
       "    }\n",
       "\n",
       "    .dataframe tbody tr th {\n",
       "        vertical-align: top;\n",
       "    }\n",
       "\n",
       "    .dataframe thead th {\n",
       "        text-align: right;\n",
       "    }\n",
       "</style>\n",
       "<table border=\"1\" class=\"dataframe\">\n",
       "  <thead>\n",
       "    <tr style=\"text-align: right;\">\n",
       "      <th></th>\n",
       "      <th>Mouse ID</th>\n",
       "      <th>Drug Regimen</th>\n",
       "      <th>Sex</th>\n",
       "      <th>Age_months</th>\n",
       "      <th>Weight (g)</th>\n",
       "      <th>Timepoint_x</th>\n",
       "      <th>Tumor Volume (mm3)</th>\n",
       "      <th>Metastatic Sites</th>\n",
       "      <th>Duplicated</th>\n",
       "      <th>Timepoint_y</th>\n",
       "    </tr>\n",
       "  </thead>\n",
       "  <tbody>\n",
       "    <tr>\n",
       "      <th>9</th>\n",
       "      <td>k403</td>\n",
       "      <td>Ramicane</td>\n",
       "      <td>Male</td>\n",
       "      <td>21</td>\n",
       "      <td>16</td>\n",
       "      <td>45</td>\n",
       "      <td>22.050126</td>\n",
       "      <td>1</td>\n",
       "      <td>False</td>\n",
       "      <td>45</td>\n",
       "    </tr>\n",
       "    <tr>\n",
       "      <th>19</th>\n",
       "      <td>s185</td>\n",
       "      <td>Capomulin</td>\n",
       "      <td>Female</td>\n",
       "      <td>3</td>\n",
       "      <td>17</td>\n",
       "      <td>45</td>\n",
       "      <td>23.343598</td>\n",
       "      <td>1</td>\n",
       "      <td>False</td>\n",
       "      <td>45</td>\n",
       "    </tr>\n",
       "    <tr>\n",
       "      <th>29</th>\n",
       "      <td>x401</td>\n",
       "      <td>Capomulin</td>\n",
       "      <td>Female</td>\n",
       "      <td>16</td>\n",
       "      <td>15</td>\n",
       "      <td>45</td>\n",
       "      <td>28.484033</td>\n",
       "      <td>0</td>\n",
       "      <td>False</td>\n",
       "      <td>45</td>\n",
       "    </tr>\n",
       "    <tr>\n",
       "      <th>39</th>\n",
       "      <td>m601</td>\n",
       "      <td>Capomulin</td>\n",
       "      <td>Male</td>\n",
       "      <td>22</td>\n",
       "      <td>17</td>\n",
       "      <td>45</td>\n",
       "      <td>28.430964</td>\n",
       "      <td>1</td>\n",
       "      <td>False</td>\n",
       "      <td>45</td>\n",
       "    </tr>\n",
       "    <tr>\n",
       "      <th>49</th>\n",
       "      <td>g791</td>\n",
       "      <td>Ramicane</td>\n",
       "      <td>Male</td>\n",
       "      <td>11</td>\n",
       "      <td>16</td>\n",
       "      <td>45</td>\n",
       "      <td>29.128472</td>\n",
       "      <td>1</td>\n",
       "      <td>False</td>\n",
       "      <td>45</td>\n",
       "    </tr>\n",
       "    <tr>\n",
       "      <th>...</th>\n",
       "      <td>...</td>\n",
       "      <td>...</td>\n",
       "      <td>...</td>\n",
       "      <td>...</td>\n",
       "      <td>...</td>\n",
       "      <td>...</td>\n",
       "      <td>...</td>\n",
       "      <td>...</td>\n",
       "      <td>...</td>\n",
       "      <td>...</td>\n",
       "    </tr>\n",
       "    <tr>\n",
       "      <th>1846</th>\n",
       "      <td>z314</td>\n",
       "      <td>Stelasyn</td>\n",
       "      <td>Female</td>\n",
       "      <td>21</td>\n",
       "      <td>28</td>\n",
       "      <td>5</td>\n",
       "      <td>45.934712</td>\n",
       "      <td>0</td>\n",
       "      <td>False</td>\n",
       "      <td>5</td>\n",
       "    </tr>\n",
       "    <tr>\n",
       "      <th>1849</th>\n",
       "      <td>z435</td>\n",
       "      <td>Propriva</td>\n",
       "      <td>Female</td>\n",
       "      <td>12</td>\n",
       "      <td>26</td>\n",
       "      <td>10</td>\n",
       "      <td>48.710661</td>\n",
       "      <td>0</td>\n",
       "      <td>False</td>\n",
       "      <td>10</td>\n",
       "    </tr>\n",
       "    <tr>\n",
       "      <th>1859</th>\n",
       "      <td>z581</td>\n",
       "      <td>Infubinol</td>\n",
       "      <td>Female</td>\n",
       "      <td>24</td>\n",
       "      <td>25</td>\n",
       "      <td>45</td>\n",
       "      <td>62.754451</td>\n",
       "      <td>3</td>\n",
       "      <td>False</td>\n",
       "      <td>45</td>\n",
       "    </tr>\n",
       "    <tr>\n",
       "      <th>1869</th>\n",
       "      <td>z795</td>\n",
       "      <td>Naftisol</td>\n",
       "      <td>Female</td>\n",
       "      <td>13</td>\n",
       "      <td>29</td>\n",
       "      <td>45</td>\n",
       "      <td>65.741070</td>\n",
       "      <td>3</td>\n",
       "      <td>False</td>\n",
       "      <td>45</td>\n",
       "    </tr>\n",
       "    <tr>\n",
       "      <th>1879</th>\n",
       "      <td>z969</td>\n",
       "      <td>Naftisol</td>\n",
       "      <td>Male</td>\n",
       "      <td>9</td>\n",
       "      <td>30</td>\n",
       "      <td>45</td>\n",
       "      <td>73.867845</td>\n",
       "      <td>4</td>\n",
       "      <td>False</td>\n",
       "      <td>45</td>\n",
       "    </tr>\n",
       "  </tbody>\n",
       "</table>\n",
       "<p>248 rows × 10 columns</p>\n",
       "</div>"
      ],
      "text/plain": [
       "     Mouse ID Drug Regimen     Sex  Age_months  Weight (g)  Timepoint_x  \\\n",
       "9        k403     Ramicane    Male          21          16           45   \n",
       "19       s185    Capomulin  Female           3          17           45   \n",
       "29       x401    Capomulin  Female          16          15           45   \n",
       "39       m601    Capomulin    Male          22          17           45   \n",
       "49       g791     Ramicane    Male          11          16           45   \n",
       "...       ...          ...     ...         ...         ...          ...   \n",
       "1846     z314     Stelasyn  Female          21          28            5   \n",
       "1849     z435     Propriva  Female          12          26           10   \n",
       "1859     z581    Infubinol  Female          24          25           45   \n",
       "1869     z795     Naftisol  Female          13          29           45   \n",
       "1879     z969     Naftisol    Male           9          30           45   \n",
       "\n",
       "      Tumor Volume (mm3)  Metastatic Sites  Duplicated  Timepoint_y  \n",
       "9              22.050126                 1       False           45  \n",
       "19             23.343598                 1       False           45  \n",
       "29             28.484033                 0       False           45  \n",
       "39             28.430964                 1       False           45  \n",
       "49             29.128472                 1       False           45  \n",
       "...                  ...               ...         ...          ...  \n",
       "1846           45.934712                 0       False            5  \n",
       "1849           48.710661                 0       False           10  \n",
       "1859           62.754451                 3       False           45  \n",
       "1869           65.741070                 3       False           45  \n",
       "1879           73.867845                 4       False           45  \n",
       "\n",
       "[248 rows x 10 columns]"
      ]
     },
     "execution_count": 38,
     "metadata": {},
     "output_type": "execute_result"
    }
   ],
   "source": [
    "# Calculate the final tumor volume of each mouse across four of the treatment regimens:  \n",
    "# Capomulin, Ramicane, Infubinol, and Ceftamin\n",
    "# Start by getting the last (greatest) timepoint for each mouse\n",
    "mouse_group = combined_df.groupby('Mouse ID')\n",
    "maximums = mouse_group['Timepoint'].max()\n",
    "# Merge this group df with the original dataframe to get the tumor volume at the last timepoint\n",
    "combined_merged = combined_df.merge(maximums, on='Mouse ID')\n",
    "finals = combined_merged[combined_merged['Timepoint_x'] == combined_merged['Timepoint_y']]\n",
    "finals"
   ]
  },
  {
   "cell_type": "code",
   "execution_count": 14,
   "metadata": {},
   "outputs": [
    {
     "name": "stdout",
     "output_type": "stream",
     "text": [
      "Capomulin: Tumor Volumes below 20.70456164999999 could be outliers.\n",
      "Capomulin: Tumor Volumes above 51.83201549 could be outliers.\n",
      "no potential outliers\n",
      "Ramicane: Tumor Volumes below 17.912664470000003 could be outliers.\n",
      "Ramicane: Tumor Volumes above 54.30681135 could be outliers.\n",
      "no potential outliers\n",
      "Infubinol: Tumor Volumes below 36.83290494999999 could be outliers.\n",
      "Infubinol: Tumor Volumes above 82.74144559000001 could be outliers.\n",
      "Here is the data for potential outliers\n",
      "    Mouse ID Drug Regimen     Sex  Age_months  Weight (g)  Timepoint_x  \\\n",
      "669     c326    Infubinol  Female          18          25            5   \n",
      "\n",
      "     Tumor Volume (mm3)  Metastatic Sites  Duplicated  Timepoint_y  \n",
      "669           36.321346                 0       False            5  \n",
      "Ceftamin: Tumor Volumes below 25.355449580000002 could be outliers.\n",
      "Ceftamin: Tumor Volumes above 87.66645829999999 could be outliers.\n",
      "no potential outliers\n"
     ]
    }
   ],
   "source": [
    "# Put treatments into a list for for loop (and later for plot labels)\n",
    "treatments = ['Capomulin', 'Ramicane', 'Infubinol', 'Ceftamin']\n",
    "\n",
    "# Create empty list to fill with tumor vol data (for plotting)\n",
    "max_vol = []\n",
    "\n",
    "# Calculate the IQR and quantitatively determine if there are any potential outliers. \n",
    "for treatment in treatments:\n",
    "    treatment_df = finals[finals['Drug Regimen'] == treatment]\n",
    "    quantiles = treatment_df.quantile([.25,.5,.75])\n",
    "    quant_tumor = quantiles['Tumor Volume (mm3)']\n",
    "    lowerq = quant_tumor[0.25]\n",
    "    upperq = quant_tumor[0.75]\n",
    "    iqr = upperq-lowerq\n",
    "    lower_bound = lowerq - (1.5*iqr)\n",
    "    upper_bound = upperq + (1.5*iqr)\n",
    "    print(f\"{treatment}: Tumor Volumes below {lower_bound} could be outliers.\")\n",
    "    print(f\"{treatment}: Tumor Volumes above {upper_bound} could be outliers.\")\n",
    "    outliers = treatment_df.loc[(treatment_df['Tumor Volume (mm3)'] < lower_bound) | (treatment_df['Tumor Volume (mm3)'] > upper_bound)]\n",
    "    if len(outliers) > 0:\n",
    "        print(\"Here is the data for potential outliers\")\n",
    "        print(outliers)\n",
    "    else:\n",
    "        print(\"no potential outliers\")\n",
    "    # Locate the rows which contain mice on each drug and get the tumor volumes\n",
    "\n",
    "    # Determine outliers using upper and lower bounds\n"
   ]
  },
  {
   "cell_type": "code",
   "execution_count": 39,
   "metadata": {},
   "outputs": [
    {
     "data": {
      "text/plain": [
       "([<matplotlib.axis.XTick at 0x195b9ad45c8>,\n",
       "  <matplotlib.axis.XTick at 0x195b9ad4b88>,\n",
       "  <matplotlib.axis.XTick at 0x195b997b648>,\n",
       "  <matplotlib.axis.XTick at 0x195b8e5d408>],\n",
       " <a list of 4 Text xticklabel objects>)"
      ]
     },
     "execution_count": 39,
     "metadata": {},
     "output_type": "execute_result"
    },
    {
     "data": {
      "image/png": "[encoded data removed]",
      "text/plain": [
       "<Figure size 432x288 with 1 Axes>"
      ]
     },
     "metadata": {
      "needs_background": "light"
     },
     "output_type": "display_data"
    }
   ],
   "source": [
    "# Generate a box plot of the final tumor volume of each mouse across four regimens of interest\n",
    "capomulin_df = finals[finals['Drug Regimen']=='Capomulin']\n",
    "capomulin_tumor = capomulin_df['Tumor Volume (mm3)']\n",
    "ramicane_df = finals[finals['Drug Regimen']=='Ramicane']\n",
    "ramicane_tumor = ramicane_df['Tumor Volume (mm3)']\n",
    "Infubinol_df = finals[finals['Drug Regimen']=='Infubinol']\n",
    "Infubinol_tumor = Infubinol_df['Tumor Volume (mm3)']\n",
    "ceftamin_df = finals[finals['Drug Regimen']=='Ceftamin']\n",
    "ceftamin_tumor = ceftamin_df['Tumor Volume (mm3)']\n",
    "data = [capomulin_tumor, ramicane_tumor, Infubinol_tumor, ceftamin_tumor]\n",
    "\n",
    "plt.boxplot(data)\n",
    "plt.title(\"Final Tumor Volumes for Mice\")\n",
    "plt.ylabel(\"Final Tumor Volume\")\n",
    "plt.xticks([1, 2, 3, 4], treatments)\n"
   ]
  },
  {
   "cell_type": "markdown",
   "metadata": {},
   "source": [
    "## Line and Scatter Plots"
   ]
  },
  {
   "cell_type": "code",
   "execution_count": 40,
   "metadata": {},
   "outputs": [
    {
     "data": {
      "text/plain": [
       "Text(0.5, 1.0, 'Tumor Volume over time for Mouse s185')"
      ]
     },
     "execution_count": 40,
     "metadata": {},
     "output_type": "execute_result"
    },
    {
     "data": {
      "image/png": "[encoded data removed]",
      "text/plain": [
       "<Figure size 432x288 with 1 Axes>"
      ]
     },
     "metadata": {
      "needs_background": "light"
     },
     "output_type": "display_data"
    }
   ],
   "source": [
    "# Generate a line plot of time point versus tumor volume for a mouse treated with Capomulin\n",
    "capomulin_df= combined_df[combined_df['Drug Regimen'] == 'Capomulin']\n",
    "capomulin_s185 = capomulin_df[capomulin_df['Mouse ID'] == 's185']\n",
    "capomulin_s185\n",
    "capomulin_time = plt.plot(capomulin_s185['Timepoint'], capomulin_s185['Tumor Volume (mm3)'], color=\"red\")\n",
    "plt.xlabel('Time')\n",
    "plt.ylabel(\"Tumor Volume\")\n",
    "plt.title(\"Tumor Volume over time for Mouse s185\")"
   ]
  },
  {
   "cell_type": "code",
   "execution_count": 16,
   "metadata": {},
   "outputs": [
    {
     "data": {
      "image/png": "[encoded data removed]",
      "text/plain": [
       "<Figure size 432x288 with 1 Axes>"
      ]
     },
     "metadata": {
      "needs_background": "light"
     },
     "output_type": "display_data"
    }
   ],
   "source": [
    "# Generate a scatter plot of mouse weight versus average tumor volume for the Capomulin regimen\n",
    "cap_means = capomulin_df.groupby('Mouse ID').mean()\n",
    "plt.scatter(cap_means['Weight (g)'], cap_means['Tumor Volume (mm3)'])\n",
    "plt.xlabel(\"Weight\")\n",
    "plt.ylabel(\"Tumor Volume\")\n",
    "plt.show()\n",
    "\n",
    "\n"
   ]
  },
  {
   "cell_type": "markdown",
   "metadata": {},
   "source": [
    "## Correlation and Regression"
   ]
  },
  {
   "cell_type": "code",
   "execution_count": 41,
   "metadata": {},
   "outputs": [
    {
     "name": "stdout",
     "output_type": "stream",
     "text": [
      "The correlation coefficient between Weight and Tumor Volume is 0.84\n"
     ]
    }
   ],
   "source": [
    "# Calculate the correlation coefficient and linear regression model \n",
    "# for mouse weight and average tumor volume for the Capomulin regimen\n",
    "corr = st.pearsonr(cap_means['Weight (g)'], cap_means['Tumor Volume (mm3)'])\n",
    "print(f\"The correlation coefficient between Weight and Tumor Volume is {round(corr[0],2)}\")"
   ]
  },
  {
   "cell_type": "code",
   "execution_count": 42,
   "metadata": {},
   "outputs": [],
   "source": [
    "weight = cap_means['Weight (g)']\n",
    "tvol = cap_means['Tumor Volume (mm3)']\n",
    "\n",
    "w_slope, w_int, w_r, w_p, w_std_err = st.linregress(weight, tvol)"
   ]
  },
  {
   "cell_type": "code",
   "execution_count": 43,
   "metadata": {},
   "outputs": [
    {
     "data": {
      "image/png": "[encoded data removed]",
      "text/plain": [
       "<Figure size 720x576 with 1 Axes>"
      ]
     },
     "metadata": {
      "needs_background": "light"
     },
     "output_type": "display_data"
    }
   ],
   "source": [
    "w_fit = w_slope * weight + w_int\n",
    "plt.figure(figsize=(10,8))\n",
    "plt.scatter(weight, tvol)\n",
    "plt.plot(weight, w_fit, linestyle=\"--\", color='red')\n",
    "\n",
    "plt.xticks(weight, rotation=90)\n",
    "plt.title(\"Weight / Tumor Volume Regression\")\n",
    "plt.xlabel('Weight')\n",
    "plt.ylabel('Tumor Volume')\n",
    "plt.show()"
   ]
  },
  {
   "cell_type": "code",
   "execution_count": null,
   "metadata": {},
   "outputs": [],
   "source": []
  }
 ],
 "metadata": {
  "anaconda-cloud": {},
  "kernelspec": {
   "display_name": "Python 3",
   "language": "python",
   "name": "python3"
  },
  "language_info": {
   "codemirror_mode": {
    "name": "ipython",
    "version": 3
   },
   "file_extension": ".py",
   "mimetype": "text/x-python",
   "name": "python",
   "nbconvert_exporter": "python",
   "pygments_lexer": "ipython3",
   "version": "3.7.6"
  }
 },
 "nbformat": 4,
 "nbformat_minor": 2
}
